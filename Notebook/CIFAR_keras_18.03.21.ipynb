{
 "cells": [
  {
   "cell_type": "code",
   "execution_count": 5,
   "metadata": {
    "ExecuteTime": {
     "end_time": "2021-03-19T20:20:15.677550Z",
     "start_time": "2021-03-19T20:20:15.673424Z"
    }
   },
   "outputs": [],
   "source": [
    "#\n",
    "# Last executed on Rokny at 18.03.21.\n",
    "#"
   ]
  },
  {
   "cell_type": "code",
   "execution_count": 6,
   "metadata": {
    "ExecuteTime": {
     "end_time": "2021-03-19T20:20:15.780394Z",
     "start_time": "2021-03-19T20:20:15.682114Z"
    }
   },
   "outputs": [],
   "source": [
    "import numpy as np\n",
    "import pandas as pd\n",
    "import matplotlib.pyplot as plt\n",
    "%matplotlib inline\n",
    "from keras.datasets import cifar10\n",
    "from keras.models import Sequential\n",
    "from keras.layers import Dense, Dropout, Activation\n",
    "from keras.utils import np_utils\n",
    "from tensorflow.python.keras.layers import Input, Dense\n",
    "from tensorflow.python.keras.models import Model\n",
    "import tensorflow as tf\n",
    "from sklearn.metrics import roc_auc_score\n",
    "np.random.seed(100)\n",
    "tf.random.set_seed(100)"
   ]
  },
  {
   "cell_type": "code",
   "execution_count": 7,
   "metadata": {
    "ExecuteTime": {
     "end_time": "2021-03-19T20:20:17.855222Z",
     "start_time": "2021-03-19T20:20:15.784276Z"
    }
   },
   "outputs": [],
   "source": [
    "(X_train, y_train), (X_test, y_test) = cifar10.load_data()"
   ]
  },
  {
   "cell_type": "code",
   "execution_count": 8,
   "metadata": {
    "ExecuteTime": {
     "end_time": "2021-03-19T20:20:29.060712Z",
     "start_time": "2021-03-19T20:20:17.858314Z"
    }
   },
   "outputs": [],
   "source": [
    "X_train = X_train.astype('float32')\n",
    "X_test  = X_test.astype('float32')\n",
    "X_train /= 255\n",
    "X_test /= 255 "
   ]
  },
  {
   "cell_type": "code",
   "execution_count": 9,
   "metadata": {
    "ExecuteTime": {
     "end_time": "2021-03-19T20:20:29.067136Z",
     "start_time": "2021-03-19T20:20:29.062547Z"
    }
   },
   "outputs": [],
   "source": [
    "number_of_classes = 10\n",
    "Y_train = np_utils.to_categorical(y_train, number_of_classes)\n",
    "Y_test = np_utils.to_categorical(y_test, number_of_classes)"
   ]
  },
  {
   "cell_type": "code",
   "execution_count": 10,
   "metadata": {
    "ExecuteTime": {
     "end_time": "2021-03-19T20:20:29.212346Z",
     "start_time": "2021-03-19T20:20:29.068643Z"
    }
   },
   "outputs": [],
   "source": [
    "input_shape = (32, 32, 3)\n",
    "def createModel():\n",
    "    input_img = Input(shape=input_shape)\n",
    "    x = tf.keras.layers.Conv2D(32, kernel_size=(3, 3), activation='relu')(input_img)\n",
    "    x = tf.keras.layers.MaxPooling2D(pool_size=(2, 2))(x) \n",
    "    x = tf.keras.layers.Dropout(0.5)(x)\n",
    "    x = tf.keras.layers.Conv2D(64, kernel_size=(3, 3), activation='relu')(x)    \n",
    "    x = tf.keras.layers.MaxPooling2D(pool_size=(2, 2))(x)    \n",
    "    x = tf.keras.layers.Dropout(0.5)(x)    \n",
    "    x = tf.keras.layers.Flatten()(x)\n",
    "    x = tf.keras.layers.Dense(256, activation='relu')(x)    \n",
    "    output = tf.keras.layers.Dense(10, activation='softmax', name='visualized_layer')(x)\n",
    "\n",
    "    def auc(y_true, y_pred):\n",
    "        return tf.py_function(roc_auc_score, (y_true, y_pred), tf.double)\n",
    "    \n",
    "    model = Model(inputs=input_img, outputs=output)\n",
    "    return model"
   ]
  },
  {
   "cell_type": "code",
   "execution_count": 11,
   "metadata": {
    "ExecuteTime": {
     "end_time": "2021-03-19T20:20:30.845339Z",
     "start_time": "2021-03-19T20:20:29.217526Z"
    }
   },
   "outputs": [],
   "source": [
    "model = createModel()\n",
    "model.compile(loss='categorical_crossentropy', optimizer='adam', metrics=['accuracy'])"
   ]
  },
  {
   "cell_type": "code",
   "execution_count": 12,
   "metadata": {
    "ExecuteTime": {
     "end_time": "2021-03-19T20:20:30.852433Z",
     "start_time": "2021-03-19T20:20:30.848512Z"
    }
   },
   "outputs": [],
   "source": [
    "size = int(len(X_train) * 0.8)\n",
    "train_x, val_x = X_train[:size], X_train[size:]\n",
    "train_y, val_y = Y_train[:size], Y_train[size:]"
   ]
  },
  {
   "cell_type": "code",
   "execution_count": 13,
   "metadata": {
    "ExecuteTime": {
     "end_time": "2021-03-19T20:29:41.906440Z",
     "start_time": "2021-03-19T20:20:30.854390Z"
    },
    "scrolled": true
   },
   "outputs": [
    {
     "name": "stdout",
     "output_type": "stream",
     "text": [
      "Epoch 1/100\n",
      "313/313 [==============================] - 6s 20ms/step - loss: 1.7201 - accuracy: 0.3729 - val_loss: 1.4741 - val_accuracy: 0.4814\n",
      "Epoch 2/100\n",
      "313/313 [==============================] - 5s 17ms/step - loss: 1.4130 - accuracy: 0.4915 - val_loss: 1.2979 - val_accuracy: 0.5555\n",
      "Epoch 3/100\n",
      "313/313 [==============================] - 5s 17ms/step - loss: 1.3004 - accuracy: 0.5361 - val_loss: 1.2133 - val_accuracy: 0.5887\n",
      "Epoch 4/100\n",
      "313/313 [==============================] - 5s 17ms/step - loss: 1.2191 - accuracy: 0.5672 - val_loss: 1.1436 - val_accuracy: 0.6123\n",
      "Epoch 5/100\n",
      "313/313 [==============================] - 5s 17ms/step - loss: 1.1569 - accuracy: 0.5879 - val_loss: 1.0874 - val_accuracy: 0.6253\n",
      "Epoch 6/100\n",
      "313/313 [==============================] - 5s 17ms/step - loss: 1.1064 - accuracy: 0.6064 - val_loss: 1.0265 - val_accuracy: 0.6535\n",
      "Epoch 7/100\n",
      "313/313 [==============================] - 5s 17ms/step - loss: 1.0597 - accuracy: 0.6246 - val_loss: 0.9979 - val_accuracy: 0.6676\n",
      "Epoch 8/100\n",
      "313/313 [==============================] - 5s 18ms/step - loss: 1.0153 - accuracy: 0.6410 - val_loss: 0.9637 - val_accuracy: 0.6653\n",
      "Epoch 9/100\n",
      "313/313 [==============================] - 5s 17ms/step - loss: 0.9821 - accuracy: 0.6512 - val_loss: 0.9421 - val_accuracy: 0.6807\n",
      "Epoch 10/100\n",
      "313/313 [==============================] - 5s 17ms/step - loss: 0.9527 - accuracy: 0.6644 - val_loss: 0.9049 - val_accuracy: 0.6906\n",
      "Epoch 11/100\n",
      "313/313 [==============================] - 5s 17ms/step - loss: 0.9157 - accuracy: 0.6782 - val_loss: 0.8909 - val_accuracy: 0.6973\n",
      "Epoch 12/100\n",
      "313/313 [==============================] - 5s 17ms/step - loss: 0.8912 - accuracy: 0.6851 - val_loss: 0.8727 - val_accuracy: 0.7010\n",
      "Epoch 13/100\n",
      "313/313 [==============================] - 5s 17ms/step - loss: 0.8585 - accuracy: 0.6979 - val_loss: 0.8356 - val_accuracy: 0.7147\n",
      "Epoch 14/100\n",
      "313/313 [==============================] - 5s 17ms/step - loss: 0.8367 - accuracy: 0.7050 - val_loss: 0.8269 - val_accuracy: 0.7168\n",
      "Epoch 15/100\n",
      "313/313 [==============================] - 5s 17ms/step - loss: 0.8069 - accuracy: 0.7167 - val_loss: 0.8254 - val_accuracy: 0.7147\n",
      "Epoch 16/100\n",
      "313/313 [==============================] - 5s 17ms/step - loss: 0.7892 - accuracy: 0.7235 - val_loss: 0.8319 - val_accuracy: 0.7185\n",
      "Epoch 17/100\n",
      "313/313 [==============================] - 5s 17ms/step - loss: 0.7714 - accuracy: 0.7286 - val_loss: 0.8082 - val_accuracy: 0.7192\n",
      "Epoch 18/100\n",
      "313/313 [==============================] - 5s 17ms/step - loss: 0.7453 - accuracy: 0.7366 - val_loss: 0.8274 - val_accuracy: 0.7142\n",
      "Epoch 19/100\n",
      "313/313 [==============================] - 5s 18ms/step - loss: 0.7254 - accuracy: 0.7438 - val_loss: 0.7974 - val_accuracy: 0.7233\n",
      "Epoch 20/100\n",
      "313/313 [==============================] - 6s 18ms/step - loss: 0.7161 - accuracy: 0.7490 - val_loss: 0.7865 - val_accuracy: 0.7290\n",
      "Epoch 21/100\n",
      "313/313 [==============================] - 5s 17ms/step - loss: 0.6925 - accuracy: 0.7562 - val_loss: 0.7987 - val_accuracy: 0.7242\n",
      "Epoch 22/100\n",
      "313/313 [==============================] - 5s 17ms/step - loss: 0.6794 - accuracy: 0.7589 - val_loss: 0.7969 - val_accuracy: 0.7257\n",
      "Epoch 23/100\n",
      "313/313 [==============================] - 5s 17ms/step - loss: 0.6717 - accuracy: 0.7621 - val_loss: 0.7795 - val_accuracy: 0.7287\n",
      "Epoch 24/100\n",
      "313/313 [==============================] - 5s 17ms/step - loss: 0.6503 - accuracy: 0.7694 - val_loss: 0.8023 - val_accuracy: 0.7235\n",
      "Epoch 25/100\n",
      "313/313 [==============================] - 5s 17ms/step - loss: 0.6367 - accuracy: 0.7755 - val_loss: 0.7864 - val_accuracy: 0.7300\n",
      "Epoch 26/100\n",
      "313/313 [==============================] - 5s 17ms/step - loss: 0.6305 - accuracy: 0.7752 - val_loss: 0.7945 - val_accuracy: 0.7267\n",
      "Epoch 27/100\n",
      "313/313 [==============================] - 5s 17ms/step - loss: 0.6219 - accuracy: 0.7798 - val_loss: 0.7667 - val_accuracy: 0.7352\n",
      "Epoch 28/100\n",
      "313/313 [==============================] - 5s 17ms/step - loss: 0.6020 - accuracy: 0.7861 - val_loss: 0.7909 - val_accuracy: 0.7309\n",
      "Epoch 29/100\n",
      "313/313 [==============================] - 6s 20ms/step - loss: 0.5929 - accuracy: 0.7912 - val_loss: 0.7641 - val_accuracy: 0.7366\n",
      "Epoch 30/100\n",
      "313/313 [==============================] - 6s 18ms/step - loss: 0.5789 - accuracy: 0.7934 - val_loss: 0.7809 - val_accuracy: 0.7318\n",
      "Epoch 31/100\n",
      "313/313 [==============================] - 6s 18ms/step - loss: 0.5700 - accuracy: 0.7962 - val_loss: 0.7815 - val_accuracy: 0.7339\n",
      "Epoch 32/100\n",
      "313/313 [==============================] - 6s 18ms/step - loss: 0.5631 - accuracy: 0.8018 - val_loss: 0.7901 - val_accuracy: 0.7313\n",
      "Epoch 33/100\n",
      "313/313 [==============================] - 5s 17ms/step - loss: 0.5527 - accuracy: 0.8017 - val_loss: 0.8031 - val_accuracy: 0.7253\n",
      "Epoch 34/100\n",
      "313/313 [==============================] - 5s 17ms/step - loss: 0.5492 - accuracy: 0.8045 - val_loss: 0.7782 - val_accuracy: 0.7347\n",
      "Epoch 35/100\n",
      "313/313 [==============================] - 6s 18ms/step - loss: 0.5364 - accuracy: 0.8091 - val_loss: 0.7936 - val_accuracy: 0.7281\n",
      "Epoch 36/100\n",
      "313/313 [==============================] - 6s 18ms/step - loss: 0.5278 - accuracy: 0.8150 - val_loss: 0.7935 - val_accuracy: 0.7377\n",
      "Epoch 37/100\n",
      "313/313 [==============================] - 5s 17ms/step - loss: 0.5252 - accuracy: 0.8120 - val_loss: 0.8002 - val_accuracy: 0.7306\n",
      "Epoch 38/100\n",
      "313/313 [==============================] - 5s 17ms/step - loss: 0.5148 - accuracy: 0.8166 - val_loss: 0.8153 - val_accuracy: 0.7303\n",
      "Epoch 39/100\n",
      "313/313 [==============================] - 5s 17ms/step - loss: 0.5086 - accuracy: 0.8185 - val_loss: 0.8207 - val_accuracy: 0.7297\n",
      "Epoch 40/100\n",
      "313/313 [==============================] - 5s 17ms/step - loss: 0.4950 - accuracy: 0.8223 - val_loss: 0.8136 - val_accuracy: 0.7291\n",
      "Epoch 41/100\n",
      "313/313 [==============================] - 5s 17ms/step - loss: 0.4958 - accuracy: 0.8231 - val_loss: 0.7965 - val_accuracy: 0.7316\n",
      "Epoch 42/100\n",
      "313/313 [==============================] - 5s 17ms/step - loss: 0.4911 - accuracy: 0.8252 - val_loss: 0.8029 - val_accuracy: 0.7347\n",
      "Epoch 43/100\n",
      "313/313 [==============================] - 5s 17ms/step - loss: 0.4889 - accuracy: 0.8263 - val_loss: 0.8255 - val_accuracy: 0.7309\n",
      "Epoch 44/100\n",
      "313/313 [==============================] - 6s 18ms/step - loss: 0.4792 - accuracy: 0.8290 - val_loss: 0.8396 - val_accuracy: 0.7261\n",
      "Epoch 45/100\n",
      "313/313 [==============================] - 5s 17ms/step - loss: 0.4736 - accuracy: 0.8292 - val_loss: 0.8230 - val_accuracy: 0.7318\n",
      "Epoch 46/100\n",
      "313/313 [==============================] - 5s 17ms/step - loss: 0.4724 - accuracy: 0.8327 - val_loss: 0.8145 - val_accuracy: 0.7326\n",
      "Epoch 47/100\n",
      "313/313 [==============================] - 5s 17ms/step - loss: 0.4578 - accuracy: 0.8374 - val_loss: 0.8245 - val_accuracy: 0.7289\n",
      "Epoch 48/100\n",
      "313/313 [==============================] - 5s 17ms/step - loss: 0.4658 - accuracy: 0.8360 - val_loss: 0.8204 - val_accuracy: 0.7322\n",
      "Epoch 49/100\n",
      "313/313 [==============================] - 5s 17ms/step - loss: 0.4496 - accuracy: 0.8396 - val_loss: 0.8315 - val_accuracy: 0.7291\n",
      "Epoch 50/100\n",
      "313/313 [==============================] - 5s 17ms/step - loss: 0.4499 - accuracy: 0.8387 - val_loss: 0.8092 - val_accuracy: 0.7407\n",
      "Epoch 51/100\n",
      "313/313 [==============================] - 6s 18ms/step - loss: 0.4492 - accuracy: 0.8390 - val_loss: 0.8299 - val_accuracy: 0.7305\n",
      "Epoch 52/100\n",
      "313/313 [==============================] - 5s 17ms/step - loss: 0.4368 - accuracy: 0.8443 - val_loss: 0.8281 - val_accuracy: 0.7341\n",
      "Epoch 53/100\n",
      "313/313 [==============================] - 5s 17ms/step - loss: 0.4418 - accuracy: 0.8418 - val_loss: 0.8288 - val_accuracy: 0.7360\n",
      "Epoch 54/100\n",
      "313/313 [==============================] - 6s 18ms/step - loss: 0.4359 - accuracy: 0.8443 - val_loss: 0.8319 - val_accuracy: 0.7342\n",
      "Epoch 55/100\n",
      "313/313 [==============================] - 5s 17ms/step - loss: 0.4233 - accuracy: 0.8454 - val_loss: 0.8281 - val_accuracy: 0.7381\n",
      "Epoch 56/100\n",
      "313/313 [==============================] - 5s 18ms/step - loss: 0.4302 - accuracy: 0.8466 - val_loss: 0.8336 - val_accuracy: 0.7365\n",
      "Epoch 57/100\n"
     ]
    },
    {
     "name": "stdout",
     "output_type": "stream",
     "text": [
      "313/313 [==============================] - 5s 17ms/step - loss: 0.4220 - accuracy: 0.8503 - val_loss: 0.8426 - val_accuracy: 0.7302\n",
      "Epoch 58/100\n",
      "313/313 [==============================] - 5s 17ms/step - loss: 0.4252 - accuracy: 0.8496 - val_loss: 0.8487 - val_accuracy: 0.7330\n",
      "Epoch 59/100\n",
      "313/313 [==============================] - 5s 17ms/step - loss: 0.4132 - accuracy: 0.8522 - val_loss: 0.8460 - val_accuracy: 0.7291\n",
      "Epoch 60/100\n",
      "313/313 [==============================] - 6s 18ms/step - loss: 0.4124 - accuracy: 0.8514 - val_loss: 0.8432 - val_accuracy: 0.7317\n",
      "Epoch 61/100\n",
      "313/313 [==============================] - 5s 17ms/step - loss: 0.4128 - accuracy: 0.8528 - val_loss: 0.8383 - val_accuracy: 0.7364\n",
      "Epoch 62/100\n",
      "313/313 [==============================] - 5s 17ms/step - loss: 0.4087 - accuracy: 0.8559 - val_loss: 0.8452 - val_accuracy: 0.7333\n",
      "Epoch 63/100\n",
      "313/313 [==============================] - 5s 17ms/step - loss: 0.4051 - accuracy: 0.8558 - val_loss: 0.8590 - val_accuracy: 0.7283\n",
      "Epoch 64/100\n",
      "313/313 [==============================] - 5s 17ms/step - loss: 0.4057 - accuracy: 0.8555 - val_loss: 0.8616 - val_accuracy: 0.7349\n",
      "Epoch 65/100\n",
      "313/313 [==============================] - 5s 17ms/step - loss: 0.3991 - accuracy: 0.8586 - val_loss: 0.8485 - val_accuracy: 0.7319\n",
      "Epoch 66/100\n",
      "313/313 [==============================] - 5s 17ms/step - loss: 0.3949 - accuracy: 0.8592 - val_loss: 0.8701 - val_accuracy: 0.7342\n",
      "Epoch 67/100\n",
      "313/313 [==============================] - 5s 17ms/step - loss: 0.3892 - accuracy: 0.8620 - val_loss: 0.8593 - val_accuracy: 0.7357\n",
      "Epoch 68/100\n",
      "313/313 [==============================] - 5s 17ms/step - loss: 0.3901 - accuracy: 0.8605 - val_loss: 0.8693 - val_accuracy: 0.7294\n",
      "Epoch 69/100\n",
      "313/313 [==============================] - 5s 17ms/step - loss: 0.3893 - accuracy: 0.8615 - val_loss: 0.8569 - val_accuracy: 0.7375\n",
      "Epoch 70/100\n",
      "313/313 [==============================] - 5s 17ms/step - loss: 0.3877 - accuracy: 0.8628 - val_loss: 0.8454 - val_accuracy: 0.7389\n",
      "Epoch 71/100\n",
      "313/313 [==============================] - 5s 17ms/step - loss: 0.3832 - accuracy: 0.8631 - val_loss: 0.8759 - val_accuracy: 0.7291\n",
      "Epoch 72/100\n",
      "313/313 [==============================] - 5s 17ms/step - loss: 0.3793 - accuracy: 0.8662 - val_loss: 0.8711 - val_accuracy: 0.7367\n",
      "Epoch 73/100\n",
      "313/313 [==============================] - 5s 17ms/step - loss: 0.3828 - accuracy: 0.8643 - val_loss: 0.8702 - val_accuracy: 0.7357\n",
      "Epoch 74/100\n",
      "313/313 [==============================] - 6s 18ms/step - loss: 0.3799 - accuracy: 0.8636 - val_loss: 0.8693 - val_accuracy: 0.7369\n",
      "Epoch 75/100\n",
      "313/313 [==============================] - 5s 17ms/step - loss: 0.3708 - accuracy: 0.8691 - val_loss: 0.8685 - val_accuracy: 0.7375\n",
      "Epoch 76/100\n",
      "313/313 [==============================] - 5s 17ms/step - loss: 0.3734 - accuracy: 0.8646 - val_loss: 0.8812 - val_accuracy: 0.7349\n",
      "Epoch 77/100\n",
      "313/313 [==============================] - 5s 17ms/step - loss: 0.3723 - accuracy: 0.8668 - val_loss: 0.8635 - val_accuracy: 0.7365\n",
      "Epoch 78/100\n",
      "313/313 [==============================] - 5s 17ms/step - loss: 0.3671 - accuracy: 0.8700 - val_loss: 0.8838 - val_accuracy: 0.7386\n",
      "Epoch 79/100\n",
      "313/313 [==============================] - 5s 17ms/step - loss: 0.3636 - accuracy: 0.8708 - val_loss: 0.9083 - val_accuracy: 0.7292\n",
      "Epoch 80/100\n",
      "313/313 [==============================] - 5s 17ms/step - loss: 0.3693 - accuracy: 0.8676 - val_loss: 0.8873 - val_accuracy: 0.7347\n",
      "Epoch 81/100\n",
      "313/313 [==============================] - 5s 17ms/step - loss: 0.3645 - accuracy: 0.8695 - val_loss: 0.8827 - val_accuracy: 0.7349\n",
      "Epoch 82/100\n",
      "313/313 [==============================] - 5s 17ms/step - loss: 0.3610 - accuracy: 0.8707 - val_loss: 0.8848 - val_accuracy: 0.7343\n",
      "Epoch 83/100\n",
      "313/313 [==============================] - 5s 17ms/step - loss: 0.3565 - accuracy: 0.8742 - val_loss: 0.8729 - val_accuracy: 0.7373\n",
      "Epoch 84/100\n",
      "313/313 [==============================] - 5s 17ms/step - loss: 0.3507 - accuracy: 0.8759 - val_loss: 0.8853 - val_accuracy: 0.7359\n",
      "Epoch 85/100\n",
      "313/313 [==============================] - 5s 17ms/step - loss: 0.3542 - accuracy: 0.8741 - val_loss: 0.8765 - val_accuracy: 0.7334\n",
      "Epoch 86/100\n",
      "313/313 [==============================] - 5s 17ms/step - loss: 0.3509 - accuracy: 0.8750 - val_loss: 0.9026 - val_accuracy: 0.7329\n",
      "Epoch 87/100\n",
      "313/313 [==============================] - 5s 17ms/step - loss: 0.3520 - accuracy: 0.8759 - val_loss: 0.8919 - val_accuracy: 0.7352\n",
      "Epoch 88/100\n",
      "313/313 [==============================] - 5s 16ms/step - loss: 0.3572 - accuracy: 0.8741 - val_loss: 0.8935 - val_accuracy: 0.7341\n",
      "Epoch 89/100\n",
      "313/313 [==============================] - 5s 16ms/step - loss: 0.3484 - accuracy: 0.8765 - val_loss: 0.8917 - val_accuracy: 0.7381\n",
      "Epoch 90/100\n",
      "313/313 [==============================] - 5s 16ms/step - loss: 0.3539 - accuracy: 0.8739 - val_loss: 0.8942 - val_accuracy: 0.7328\n",
      "Epoch 91/100\n",
      "313/313 [==============================] - 5s 16ms/step - loss: 0.3464 - accuracy: 0.8774 - val_loss: 0.9055 - val_accuracy: 0.7332\n",
      "Epoch 92/100\n",
      "313/313 [==============================] - 5s 17ms/step - loss: 0.3440 - accuracy: 0.8779 - val_loss: 0.9103 - val_accuracy: 0.7294\n",
      "Epoch 93/100\n",
      "313/313 [==============================] - 5s 17ms/step - loss: 0.3351 - accuracy: 0.8809 - val_loss: 0.8851 - val_accuracy: 0.7384\n",
      "Epoch 94/100\n",
      "313/313 [==============================] - 5s 17ms/step - loss: 0.3411 - accuracy: 0.8789 - val_loss: 0.8970 - val_accuracy: 0.7370\n",
      "Epoch 95/100\n",
      "313/313 [==============================] - 5s 17ms/step - loss: 0.3424 - accuracy: 0.8788 - val_loss: 0.9040 - val_accuracy: 0.7350\n",
      "Epoch 96/100\n",
      "313/313 [==============================] - 5s 17ms/step - loss: 0.3293 - accuracy: 0.8835 - val_loss: 0.9040 - val_accuracy: 0.7385\n",
      "Epoch 97/100\n",
      "313/313 [==============================] - 5s 17ms/step - loss: 0.3390 - accuracy: 0.8780 - val_loss: 0.8956 - val_accuracy: 0.7365\n",
      "Epoch 98/100\n",
      "313/313 [==============================] - 5s 17ms/step - loss: 0.3295 - accuracy: 0.8825 - val_loss: 0.8920 - val_accuracy: 0.7393\n",
      "Epoch 99/100\n",
      "313/313 [==============================] - 5s 17ms/step - loss: 0.3308 - accuracy: 0.8834 - val_loss: 0.8901 - val_accuracy: 0.7325\n",
      "Epoch 100/100\n",
      "313/313 [==============================] - 5s 17ms/step - loss: 0.3303 - accuracy: 0.8845 - val_loss: 0.9042 - val_accuracy: 0.7344\n"
     ]
    }
   ],
   "source": [
    "with tf.device('/gpu:0'):\n",
    "    history = model.fit(train_x, train_y, batch_size=128, epochs=100, validation_data=(val_x, val_y))"
   ]
  },
  {
   "cell_type": "code",
   "execution_count": 14,
   "metadata": {
    "ExecuteTime": {
     "end_time": "2021-03-19T20:29:42.756171Z",
     "start_time": "2021-03-19T20:29:41.911143Z"
    }
   },
   "outputs": [
    {
     "data": {
      "image/png": "[encoded data removed]",
      "text/plain": [
       "<Figure size 432x288 with 1 Axes>"
      ]
     },
     "metadata": {
      "needs_background": "light"
     },
     "output_type": "display_data"
    }
   ],
   "source": [
    "from matplotlib import pyplot\n",
    "# learning curves of model accuracy\n",
    "pyplot.plot(history.history['loss'], label='Training')\n",
    "pyplot.plot(history.history['val_loss'], label='Validation')\n",
    "pyplot.legend()\n",
    "pyplot.show()"
   ]
  },
  {
   "cell_type": "code",
   "execution_count": 15,
   "metadata": {
    "ExecuteTime": {
     "end_time": "2021-03-19T20:29:46.370646Z",
     "start_time": "2021-03-19T20:29:42.758836Z"
    }
   },
   "outputs": [
    {
     "name": "stdout",
     "output_type": "stream",
     "text": [
      "313/313 [==============================] - 1s 5ms/step - loss: 0.9528 - accuracy: 0.7262\n",
      "Test accuracy:  0.7261999845504761\n"
     ]
    }
   ],
   "source": [
    "score = model.evaluate(X_test, Y_test)\n",
    "print('Test accuracy: ', score[1])"
   ]
  },
  {
   "cell_type": "code",
   "execution_count": null,
   "metadata": {
    "ExecuteTime": {
     "end_time": "2021-03-18T20:18:55.591481Z",
     "start_time": "2021-03-18T20:18:55.565473Z"
    }
   },
   "outputs": [],
   "source": []
  }
 ],
 "metadata": {
  "anaconda-cloud": {},
  "kernelspec": {
   "display_name": "Python 3",
   "language": "python",
   "name": "python3"
  },
  "language_info": {
   "codemirror_mode": {
    "name": "ipython",
    "version": 3
   },
   "file_extension": ".py",
   "mimetype": "text/x-python",
   "name": "python",
   "nbconvert_exporter": "python",
   "pygments_lexer": "ipython3",
   "version": "3.8.5"
  },
  "toc": {
   "base_numbering": 1,
   "nav_menu": {},
   "number_sections": false,
   "sideBar": true,
   "skip_h1_title": false,
   "title_cell": "Table of Contents",
   "title_sidebar": "Contents",
   "toc_cell": false,
   "toc_position": {},
   "toc_section_display": true,
   "toc_window_display": false
  }
 },
 "nbformat": 4,
 "nbformat_minor": 1
}
